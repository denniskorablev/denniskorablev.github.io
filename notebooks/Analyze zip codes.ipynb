{
 "cells": [
  {
   "cell_type": "code",
   "execution_count": 15,
   "metadata": {},
   "outputs": [],
   "source": [
    "import pandas as pd\n",
    "import matplotlib as plt"
   ]
  },
  {
   "cell_type": "code",
   "execution_count": 7,
   "metadata": {},
   "outputs": [
    {
     "name": "stdout",
     "output_type": "stream",
     "text": [
      "--2019-08-17 22:37:02--  http://files.zillowstatic.com/research/public/Zip/Zip_MedianValuePerSqft_AllHomes.csv\n",
      "Resolving files.zillowstatic.com (files.zillowstatic.com)... 99.84.181.11, 99.84.181.89, 99.84.181.98, ...\n",
      "Connecting to files.zillowstatic.com (files.zillowstatic.com)|99.84.181.11|:80... connected.\n",
      "HTTP request sent, awaiting response... 200 OK\n",
      "Length: 15155733 (14M) [binary/octet-stream]\n",
      "Saving to: ‘Zip_MedianValuePerSqft_AllHomes.csv’\n",
      "\n",
      "Zip_MedianValuePerS 100%[===================>]  14.45M  7.33MB/s    in 2.0s    \n",
      "\n",
      "2019-08-17 22:37:04 (7.33 MB/s) - ‘Zip_MedianValuePerSqft_AllHomes.csv’ saved [15155733/15155733]\n",
      "\n"
     ]
    }
   ],
   "source": [
    "!wget http://files.zillowstatic.com/research/public/Zip/Zip_MedianValuePerSqft_AllHomes.csv"
   ]
  },
  {
   "cell_type": "code",
   "execution_count": 8,
   "metadata": {},
   "outputs": [],
   "source": [
    "zip_prices = pd.read_csv('Zip_MedianValuePerSqft_AllHomes.csv', engine = 'python')"
   ]
  },
  {
   "cell_type": "code",
   "execution_count": 10,
   "metadata": {},
   "outputs": [
    {
     "data": {
      "text/html": [
       "<div>\n",
       "<style scoped>\n",
       "    .dataframe tbody tr th:only-of-type {\n",
       "        vertical-align: middle;\n",
       "    }\n",
       "\n",
       "    .dataframe tbody tr th {\n",
       "        vertical-align: top;\n",
       "    }\n",
       "\n",
       "    .dataframe thead th {\n",
       "        text-align: right;\n",
       "    }\n",
       "</style>\n",
       "<table border=\"1\" class=\"dataframe\">\n",
       "  <thead>\n",
       "    <tr style=\"text-align: right;\">\n",
       "      <th></th>\n",
       "      <th>RegionID</th>\n",
       "      <th>RegionName</th>\n",
       "      <th>City</th>\n",
       "      <th>State</th>\n",
       "      <th>Metro</th>\n",
       "      <th>CountyName</th>\n",
       "      <th>SizeRank</th>\n",
       "      <th>1996-04</th>\n",
       "      <th>1996-05</th>\n",
       "      <th>1996-06</th>\n",
       "      <th>...</th>\n",
       "      <th>2018-10</th>\n",
       "      <th>2018-11</th>\n",
       "      <th>2018-12</th>\n",
       "      <th>2019-01</th>\n",
       "      <th>2019-02</th>\n",
       "      <th>2019-03</th>\n",
       "      <th>2019-04</th>\n",
       "      <th>2019-05</th>\n",
       "      <th>2019-06</th>\n",
       "      <th>2019-07</th>\n",
       "    </tr>\n",
       "  </thead>\n",
       "  <tbody>\n",
       "    <tr>\n",
       "      <th>0</th>\n",
       "      <td>61639</td>\n",
       "      <td>10025</td>\n",
       "      <td>New York</td>\n",
       "      <td>NY</td>\n",
       "      <td>New York-Newark-Jersey City</td>\n",
       "      <td>New York County</td>\n",
       "      <td>1</td>\n",
       "      <td>200.0</td>\n",
       "      <td>200.0</td>\n",
       "      <td>201.0</td>\n",
       "      <td>...</td>\n",
       "      <td>1323</td>\n",
       "      <td>1316</td>\n",
       "      <td>1305</td>\n",
       "      <td>1290</td>\n",
       "      <td>1288</td>\n",
       "      <td>1286</td>\n",
       "      <td>1272</td>\n",
       "      <td>1258</td>\n",
       "      <td>1253</td>\n",
       "      <td>1246</td>\n",
       "    </tr>\n",
       "    <tr>\n",
       "      <th>1</th>\n",
       "      <td>84654</td>\n",
       "      <td>60657</td>\n",
       "      <td>Chicago</td>\n",
       "      <td>IL</td>\n",
       "      <td>Chicago-Naperville-Elgin</td>\n",
       "      <td>Cook County</td>\n",
       "      <td>2</td>\n",
       "      <td>156.0</td>\n",
       "      <td>157.0</td>\n",
       "      <td>157.0</td>\n",
       "      <td>...</td>\n",
       "      <td>477</td>\n",
       "      <td>478</td>\n",
       "      <td>479</td>\n",
       "      <td>481</td>\n",
       "      <td>482</td>\n",
       "      <td>487</td>\n",
       "      <td>492</td>\n",
       "      <td>492</td>\n",
       "      <td>486</td>\n",
       "      <td>481</td>\n",
       "    </tr>\n",
       "    <tr>\n",
       "      <th>2</th>\n",
       "      <td>61637</td>\n",
       "      <td>10023</td>\n",
       "      <td>New York</td>\n",
       "      <td>NY</td>\n",
       "      <td>New York-Newark-Jersey City</td>\n",
       "      <td>New York County</td>\n",
       "      <td>3</td>\n",
       "      <td>359.0</td>\n",
       "      <td>359.0</td>\n",
       "      <td>359.0</td>\n",
       "      <td>...</td>\n",
       "      <td>1591</td>\n",
       "      <td>1582</td>\n",
       "      <td>1572</td>\n",
       "      <td>1556</td>\n",
       "      <td>1539</td>\n",
       "      <td>1519</td>\n",
       "      <td>1496</td>\n",
       "      <td>1485</td>\n",
       "      <td>1483</td>\n",
       "      <td>1476</td>\n",
       "    </tr>\n",
       "    <tr>\n",
       "      <th>3</th>\n",
       "      <td>91982</td>\n",
       "      <td>77494</td>\n",
       "      <td>Katy</td>\n",
       "      <td>TX</td>\n",
       "      <td>Houston-The Woodlands-Sugar Land</td>\n",
       "      <td>Harris County</td>\n",
       "      <td>4</td>\n",
       "      <td>67.0</td>\n",
       "      <td>68.0</td>\n",
       "      <td>68.0</td>\n",
       "      <td>...</td>\n",
       "      <td>113</td>\n",
       "      <td>113</td>\n",
       "      <td>114</td>\n",
       "      <td>114</td>\n",
       "      <td>114</td>\n",
       "      <td>114</td>\n",
       "      <td>114</td>\n",
       "      <td>114</td>\n",
       "      <td>114</td>\n",
       "      <td>113</td>\n",
       "    </tr>\n",
       "    <tr>\n",
       "      <th>4</th>\n",
       "      <td>84616</td>\n",
       "      <td>60614</td>\n",
       "      <td>Chicago</td>\n",
       "      <td>IL</td>\n",
       "      <td>Chicago-Naperville-Elgin</td>\n",
       "      <td>Cook County</td>\n",
       "      <td>5</td>\n",
       "      <td>199.0</td>\n",
       "      <td>200.0</td>\n",
       "      <td>201.0</td>\n",
       "      <td>...</td>\n",
       "      <td>523</td>\n",
       "      <td>525</td>\n",
       "      <td>527</td>\n",
       "      <td>529</td>\n",
       "      <td>530</td>\n",
       "      <td>533</td>\n",
       "      <td>534</td>\n",
       "      <td>530</td>\n",
       "      <td>522</td>\n",
       "      <td>515</td>\n",
       "    </tr>\n",
       "  </tbody>\n",
       "</table>\n",
       "<p>5 rows × 287 columns</p>\n",
       "</div>"
      ],
      "text/plain": [
       "   RegionID  RegionName      City State                             Metro  \\\n",
       "0     61639       10025  New York    NY       New York-Newark-Jersey City   \n",
       "1     84654       60657   Chicago    IL          Chicago-Naperville-Elgin   \n",
       "2     61637       10023  New York    NY       New York-Newark-Jersey City   \n",
       "3     91982       77494      Katy    TX  Houston-The Woodlands-Sugar Land   \n",
       "4     84616       60614   Chicago    IL          Chicago-Naperville-Elgin   \n",
       "\n",
       "        CountyName  SizeRank  1996-04  1996-05  1996-06   ...     2018-10  \\\n",
       "0  New York County         1    200.0    200.0    201.0   ...        1323   \n",
       "1      Cook County         2    156.0    157.0    157.0   ...         477   \n",
       "2  New York County         3    359.0    359.0    359.0   ...        1591   \n",
       "3    Harris County         4     67.0     68.0     68.0   ...         113   \n",
       "4      Cook County         5    199.0    200.0    201.0   ...         523   \n",
       "\n",
       "   2018-11  2018-12  2019-01  2019-02  2019-03  2019-04  2019-05  2019-06  \\\n",
       "0     1316     1305     1290     1288     1286     1272     1258     1253   \n",
       "1      478      479      481      482      487      492      492      486   \n",
       "2     1582     1572     1556     1539     1519     1496     1485     1483   \n",
       "3      113      114      114      114      114      114      114      114   \n",
       "4      525      527      529      530      533      534      530      522   \n",
       "\n",
       "   2019-07  \n",
       "0     1246  \n",
       "1      481  \n",
       "2     1476  \n",
       "3      113  \n",
       "4      515  \n",
       "\n",
       "[5 rows x 287 columns]"
      ]
     },
     "execution_count": 10,
     "metadata": {},
     "output_type": "execute_result"
    }
   ],
   "source": [
    "zip_prices.head(5)"
   ]
  },
  {
   "cell_type": "code",
   "execution_count": 32,
   "metadata": {},
   "outputs": [
    {
     "data": {
      "text/plain": [
       "<matplotlib.axes._subplots.AxesSubplot at 0x12a5a5978>"
      ]
     },
     "execution_count": 32,
     "metadata": {},
     "output_type": "execute_result"
    },
    {
     "data": {
      "image/png": "[encoded data removed]",
      "text/plain": [
       "<Figure size 432x288 with 1 Axes>"
      ]
     },
     "metadata": {
      "needs_background": "light"
     },
     "output_type": "display_data"
    }
   ],
   "source": [
    "zip_prices[zip_prices.columns[zip_prices.columns.str.contains('RegionName|\\-')]].set_index('RegionName').head(10).transpose().plot()\n"
   ]
  }
 ],
 "metadata": {
  "kernelspec": {
   "display_name": "Python 3",
   "language": "python",
   "name": "python3"
  },
  "language_info": {
   "codemirror_mode": {
    "name": "ipython",
    "version": 3
   },
   "file_extension": ".py",
   "mimetype": "text/x-python",
   "name": "python",
   "nbconvert_exporter": "python",
   "pygments_lexer": "ipython3",
   "version": "3.7.3"
  }
 },
 "nbformat": 4,
 "nbformat_minor": 2
}
